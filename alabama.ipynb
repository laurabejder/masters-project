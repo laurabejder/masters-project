{
 "cells": [
  {
   "cell_type": "code",
   "execution_count": 1,
   "metadata": {},
   "outputs": [
    {
     "name": "stdout",
     "output_type": "stream",
     "text": [
      "Requirement already satisfied: pdfminer.six in /Users/laurabejderjensen/.pyenv/versions/3.11.0rc2/lib/python3.11/site-packages (20221105)\n",
      "Requirement already satisfied: charset-normalizer>=2.0.0 in /Users/laurabejderjensen/.pyenv/versions/3.11.0rc2/lib/python3.11/site-packages (from pdfminer.six) (2.1.1)\n",
      "Requirement already satisfied: cryptography>=36.0.0 in /Users/laurabejderjensen/.pyenv/versions/3.11.0rc2/lib/python3.11/site-packages (from pdfminer.six) (38.0.4)\n",
      "Requirement already satisfied: cffi>=1.12 in /Users/laurabejderjensen/.pyenv/versions/3.11.0rc2/lib/python3.11/site-packages (from cryptography>=36.0.0->pdfminer.six) (1.15.1)\n",
      "Requirement already satisfied: pycparser in /Users/laurabejderjensen/.pyenv/versions/3.11.0rc2/lib/python3.11/site-packages (from cffi>=1.12->cryptography>=36.0.0->pdfminer.six) (2.21)\n",
      "\n",
      "\u001b[1m[\u001b[0m\u001b[34;49mnotice\u001b[0m\u001b[1;39;49m]\u001b[0m\u001b[39;49m A new release of pip is available: \u001b[0m\u001b[31;49m23.0\u001b[0m\u001b[39;49m -> \u001b[0m\u001b[32;49m23.0.1\u001b[0m\n",
      "\u001b[1m[\u001b[0m\u001b[34;49mnotice\u001b[0m\u001b[1;39;49m]\u001b[0m\u001b[39;49m To update, run: \u001b[0m\u001b[32;49mpip install --upgrade pip\u001b[0m\n"
     ]
    }
   ],
   "source": [
    "!pip install pdfminer.six"
   ]
  },
  {
   "cell_type": "code",
   "execution_count": 8,
   "metadata": {},
   "outputs": [],
   "source": [
    "from pdfminer.high_level import extract_text\n",
    "\n",
    "import glob"
   ]
  },
  {
   "cell_type": "code",
   "execution_count": 7,
   "metadata": {},
   "outputs": [],
   "source": [
    "text = extract_text('alabama/track_2001.pdf')"
   ]
  },
  {
   "cell_type": "code",
   "execution_count": 9,
   "metadata": {},
   "outputs": [
    {
     "data": {
      "text/plain": [
       "['alabama/track_2016.pdf',\n",
       " 'alabama/track_2003.pdf',\n",
       " 'alabama/track_2017.pdf',\n",
       " 'alabama/track_2001.pdf',\n",
       " 'alabama/track_2015.pdf',\n",
       " 'alabama/track_2014.pdf',\n",
       " 'alabama/track_2004.pdf',\n",
       " 'alabama/track_2010.pdf',\n",
       " 'alabama/track_2005.pdf',\n",
       " 'alabama/track_2013.pdf',\n",
       " 'alabama/track_2007.pdf',\n",
       " 'alabama/track_2006.pdf',\n",
       " 'alabama/track_2012.pdf',\n",
       " 'alabama/track_2022.pdf',\n",
       " 'alabama/track_2008.pdf',\n",
       " 'alabama/track_2020.pdf',\n",
       " 'alabama/track_2021.pdf',\n",
       " 'alabama/track_2019.pdf']"
      ]
     },
     "execution_count": 9,
     "metadata": {},
     "output_type": "execute_result"
    }
   ],
   "source": [
    "filenames = glob.glob(\"alabama/track_*.pdf\")\n",
    "filenames"
   ]
  },
  {
   "cell_type": "code",
   "execution_count": 10,
   "metadata": {},
   "outputs": [
    {
     "data": {
      "text/plain": [
       "18"
      ]
     },
     "execution_count": 10,
     "metadata": {},
     "output_type": "execute_result"
    }
   ],
   "source": [
    "contents = [extract_text(filename) for filename in filenames]\n",
    "len(contents)"
   ]
  },
  {
   "cell_type": "code",
   "execution_count": 11,
   "metadata": {},
   "outputs": [
    {
     "data": {
      "text/html": [
       "<div>\n",
       "<style scoped>\n",
       "    .dataframe tbody tr th:only-of-type {\n",
       "        vertical-align: middle;\n",
       "    }\n",
       "\n",
       "    .dataframe tbody tr th {\n",
       "        vertical-align: top;\n",
       "    }\n",
       "\n",
       "    .dataframe thead th {\n",
       "        text-align: right;\n",
       "    }\n",
       "</style>\n",
       "<table border=\"1\" class=\"dataframe\">\n",
       "  <thead>\n",
       "    <tr style=\"text-align: right;\">\n",
       "      <th></th>\n",
       "      <th>filename</th>\n",
       "      <th>contents</th>\n",
       "    </tr>\n",
       "  </thead>\n",
       "  <tbody>\n",
       "    <tr>\n",
       "      <th>0</th>\n",
       "      <td>alabama/track_2016.pdf</td>\n",
       "      <td>Alabama Inventory List \\n\\nThe Rare, Threatene...</td>\n",
       "    </tr>\n",
       "    <tr>\n",
       "      <th>1</th>\n",
       "      <td>alabama/track_2003.pdf</td>\n",
       "      <td>Alabama Inventory List\\n\\nThe Rare, Threatened...</td>\n",
       "    </tr>\n",
       "    <tr>\n",
       "      <th>2</th>\n",
       "      <td>alabama/track_2017.pdf</td>\n",
       "      <td>Alabama Inventory List \\n\\nThe Rare, Threatene...</td>\n",
       "    </tr>\n",
       "    <tr>\n",
       "      <th>3</th>\n",
       "      <td>alabama/track_2001.pdf</td>\n",
       "      <td>Alabama Inventory List\\nThe Rare, Threatened, ...</td>\n",
       "    </tr>\n",
       "    <tr>\n",
       "      <th>4</th>\n",
       "      <td>alabama/track_2015.pdf</td>\n",
       "      <td>Alabama Inventory List \\n\\nThe Rare, Threatene...</td>\n",
       "    </tr>\n",
       "    <tr>\n",
       "      <th>5</th>\n",
       "      <td>alabama/track_2014.pdf</td>\n",
       "      <td>Alabama Inventory List \\n\\nThe Rare, Threatene...</td>\n",
       "    </tr>\n",
       "    <tr>\n",
       "      <th>6</th>\n",
       "      <td>alabama/track_2004.pdf</td>\n",
       "      <td>Alabama Inventory List\\n\\nThe Rare, Threatened...</td>\n",
       "    </tr>\n",
       "    <tr>\n",
       "      <th>7</th>\n",
       "      <td>alabama/track_2010.pdf</td>\n",
       "      <td>(cid:1)(cid:2)(cid:3)(cid:4)(cid:3)(cid:5)(cid...</td>\n",
       "    </tr>\n",
       "    <tr>\n",
       "      <th>8</th>\n",
       "      <td>alabama/track_2005.pdf</td>\n",
       "      <td>(cid:1)(cid:2)(cid:3)(cid:4)(cid:3)(cid:5)(cid...</td>\n",
       "    </tr>\n",
       "    <tr>\n",
       "      <th>9</th>\n",
       "      <td>alabama/track_2013.pdf</td>\n",
       "      <td>Alabama Inventory List \\n\\nThe Rare, Threatene...</td>\n",
       "    </tr>\n",
       "    <tr>\n",
       "      <th>10</th>\n",
       "      <td>alabama/track_2007.pdf</td>\n",
       "      <td>Alabama Inventory List \\n\\nThe Rare, Threatene...</td>\n",
       "    </tr>\n",
       "    <tr>\n",
       "      <th>11</th>\n",
       "      <td>alabama/track_2006.pdf</td>\n",
       "      <td>Alabama Inventory List \\n\\nThe Rare, Threatene...</td>\n",
       "    </tr>\n",
       "    <tr>\n",
       "      <th>12</th>\n",
       "      <td>alabama/track_2012.pdf</td>\n",
       "      <td>Alabama Inventory List \\n\\nThe Rare, Threatene...</td>\n",
       "    </tr>\n",
       "    <tr>\n",
       "      <th>13</th>\n",
       "      <td>alabama/track_2022.pdf</td>\n",
       "      <td>Alabama Inventory List \\n\\nThe Rare, Threatene...</td>\n",
       "    </tr>\n",
       "    <tr>\n",
       "      <th>14</th>\n",
       "      <td>alabama/track_2008.pdf</td>\n",
       "      <td>(cid:1)(cid:2)(cid:3)(cid:4)(cid:3)(cid:5)(cid...</td>\n",
       "    </tr>\n",
       "    <tr>\n",
       "      <th>15</th>\n",
       "      <td>alabama/track_2020.pdf</td>\n",
       "      <td>Alabama Inventory List \\n\\nThe Rare, Threatene...</td>\n",
       "    </tr>\n",
       "    <tr>\n",
       "      <th>16</th>\n",
       "      <td>alabama/track_2021.pdf</td>\n",
       "      <td>Alabama Inventory List \\n\\nThe Rare, Threatene...</td>\n",
       "    </tr>\n",
       "    <tr>\n",
       "      <th>17</th>\n",
       "      <td>alabama/track_2019.pdf</td>\n",
       "      <td>Alabama Inventory List \\n\\nThe Rare, Threatene...</td>\n",
       "    </tr>\n",
       "  </tbody>\n",
       "</table>\n",
       "</div>"
      ],
      "text/plain": [
       "                  filename                                           contents\n",
       "0   alabama/track_2016.pdf  Alabama Inventory List \\n\\nThe Rare, Threatene...\n",
       "1   alabama/track_2003.pdf  Alabama Inventory List\\n\\nThe Rare, Threatened...\n",
       "2   alabama/track_2017.pdf  Alabama Inventory List \\n\\nThe Rare, Threatene...\n",
       "3   alabama/track_2001.pdf  Alabama Inventory List\\nThe Rare, Threatened, ...\n",
       "4   alabama/track_2015.pdf  Alabama Inventory List \\n\\nThe Rare, Threatene...\n",
       "5   alabama/track_2014.pdf  Alabama Inventory List \\n\\nThe Rare, Threatene...\n",
       "6   alabama/track_2004.pdf  Alabama Inventory List\\n\\nThe Rare, Threatened...\n",
       "7   alabama/track_2010.pdf  (cid:1)(cid:2)(cid:3)(cid:4)(cid:3)(cid:5)(cid...\n",
       "8   alabama/track_2005.pdf  (cid:1)(cid:2)(cid:3)(cid:4)(cid:3)(cid:5)(cid...\n",
       "9   alabama/track_2013.pdf  Alabama Inventory List \\n\\nThe Rare, Threatene...\n",
       "10  alabama/track_2007.pdf  Alabama Inventory List \\n\\nThe Rare, Threatene...\n",
       "11  alabama/track_2006.pdf  Alabama Inventory List \\n\\nThe Rare, Threatene...\n",
       "12  alabama/track_2012.pdf  Alabama Inventory List \\n\\nThe Rare, Threatene...\n",
       "13  alabama/track_2022.pdf  Alabama Inventory List \\n\\nThe Rare, Threatene...\n",
       "14  alabama/track_2008.pdf  (cid:1)(cid:2)(cid:3)(cid:4)(cid:3)(cid:5)(cid...\n",
       "15  alabama/track_2020.pdf  Alabama Inventory List \\n\\nThe Rare, Threatene...\n",
       "16  alabama/track_2021.pdf  Alabama Inventory List \\n\\nThe Rare, Threatene...\n",
       "17  alabama/track_2019.pdf  Alabama Inventory List \\n\\nThe Rare, Threatene..."
      ]
     },
     "execution_count": 11,
     "metadata": {},
     "output_type": "execute_result"
    }
   ],
   "source": [
    "import pandas as pd\n",
    "\n",
    "pd.DataFrame({\n",
    "    'filename': filenames,\n",
    "    'contents': contents\n",
    "})"
   ]
  }
 ],
 "metadata": {
  "kernelspec": {
   "display_name": "Python 3.11.0rc2 64-bit ('3.11.0rc2')",
   "language": "python",
   "name": "python3"
  },
  "language_info": {
   "codemirror_mode": {
    "name": "ipython",
    "version": 3
   },
   "file_extension": ".py",
   "mimetype": "text/x-python",
   "name": "python",
   "nbconvert_exporter": "python",
   "pygments_lexer": "ipython3",
   "version": "3.11.0rc2"
  },
  "orig_nbformat": 4,
  "vscode": {
   "interpreter": {
    "hash": "fa07e5dff76123542c28abca75c0e47ea742948dbeeb360ccfbd2a5c7c277f8b"
   }
  }
 },
 "nbformat": 4,
 "nbformat_minor": 2
}
